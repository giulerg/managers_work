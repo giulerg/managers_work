{
 "cells": [
  {
   "cell_type": "code",
   "execution_count": 190,
   "metadata": {},
   "outputs": [],
   "source": [
    "import pandas as pd\n",
    "import psycopg2\n",
    "from datetime import datetime, time, timedelta\n",
    " "
   ]
  },
  {
   "cell_type": "code",
   "execution_count": 191,
   "metadata": {},
   "outputs": [],
   "source": [
    "HOST = \"rc1a-p8bp15mmxsfwpbt0.mdb.yandexcloud.net\"\n",
    "DB = \"db1\"\n",
    "USER = \"test_user\"\n",
    "PASSWORD = \"j2M{CnnFq@\"\n",
    "PORT = \"6432\""
   ]
  },
  {
   "cell_type": "markdown",
   "metadata": {},
   "source": [
    "Подключение к БД:"
   ]
  },
  {
   "cell_type": "code",
   "execution_count": 232,
   "metadata": {},
   "outputs": [
    {
     "name": "stdout",
     "output_type": "stream",
     "text": [
      "Connection successful\n"
     ]
    }
   ],
   "source": [
    "try:\n",
    "    conn = psycopg2.connect(\n",
    "        host=HOST,\n",
    "        port=PORT,\n",
    "        database=DB,\n",
    "        user=USER,\n",
    "        password=PASSWORD\n",
    "    )\n",
    "    print(\"Connection successful\")\n",
    "except Exception as e:\n",
    "    print(f\"Error: {e}\")   "
   ]
  },
  {
   "cell_type": "markdown",
   "metadata": {},
   "source": [
    "Вытаскиваем данные из БД и сохраняем в датафреймы"
   ]
  },
  {
   "cell_type": "code",
   "execution_count": null,
   "metadata": {},
   "outputs": [],
   "source": [
    "managers_query = \"SELECT * FROM test.managers\"\n",
    "chat_messages_query = \"SELECT * FROM test.chat_messages\"\n",
    "rops_query = \"SELECT * FROM test.rops\"\n",
    "\n",
    "managers = pd.read_sql_query(managers_query, conn)\n",
    "chat_messages = pd.read_sql_query(chat_messages_query, conn)\n",
    "rops = pd.read_sql_query(rops_query, conn)\n",
    "conn.close()"
   ]
  },
  {
   "cell_type": "markdown",
   "metadata": {},
   "source": [
    "Переводим в дату поле времени"
   ]
  },
  {
   "cell_type": "code",
   "execution_count": 234,
   "metadata": {},
   "outputs": [],
   "source": [
    "chat_messages['created'] = pd.to_datetime(chat_messages['created_at'], unit='s')"
   ]
  },
  {
   "cell_type": "markdown",
   "metadata": {},
   "source": [
    "Ночное время не учитываем. Для этого пересохраняем его в 9:30"
   ]
  },
  {
   "cell_type": "code",
   "execution_count": 235,
   "metadata": {},
   "outputs": [],
   "source": [
    "def change_time(created):\n",
    "    if created.hour < 9 or (created.hour == 9 and created.minute < 30):\n",
    "        return created.replace(hour=9, minute=30, second=0, microsecond=0)\n",
    "    else:\n",
    "        return created\n",
    "chat_messages['created'] = chat_messages['created'].apply(change_time)"
   ]
  },
  {
   "cell_type": "code",
   "execution_count": 236,
   "metadata": {},
   "outputs": [
    {
     "data": {
      "text/html": [
       "<div>\n",
       "<style scoped>\n",
       "    .dataframe tbody tr th:only-of-type {\n",
       "        vertical-align: middle;\n",
       "    }\n",
       "\n",
       "    .dataframe tbody tr th {\n",
       "        vertical-align: top;\n",
       "    }\n",
       "\n",
       "    .dataframe thead th {\n",
       "        text-align: right;\n",
       "    }\n",
       "</style>\n",
       "<table border=\"1\" class=\"dataframe\">\n",
       "  <thead>\n",
       "    <tr style=\"text-align: right;\">\n",
       "      <th></th>\n",
       "      <th>message_id</th>\n",
       "      <th>type</th>\n",
       "      <th>entity_id</th>\n",
       "      <th>created_by</th>\n",
       "      <th>created_at</th>\n",
       "      <th>created</th>\n",
       "    </tr>\n",
       "  </thead>\n",
       "  <tbody>\n",
       "    <tr>\n",
       "      <th>0</th>\n",
       "      <td>\"01jb7da570sf4f65xdf0ptvv9q\"</td>\n",
       "      <td>incoming_chat_message</td>\n",
       "      <td>37556493</td>\n",
       "      <td>0</td>\n",
       "      <td>1730046924</td>\n",
       "      <td>2024-10-27 16:35:24</td>\n",
       "    </tr>\n",
       "    <tr>\n",
       "      <th>1</th>\n",
       "      <td>\"01jb3t6bc8gvyfnd063nd91ng4\"</td>\n",
       "      <td>incoming_chat_message</td>\n",
       "      <td>37549491</td>\n",
       "      <td>0</td>\n",
       "      <td>1729926213</td>\n",
       "      <td>2024-10-26 09:30:00</td>\n",
       "    </tr>\n",
       "    <tr>\n",
       "      <th>2</th>\n",
       "      <td>\"01jb6gj9ngwk0ybbmg9w90pbqg\"</td>\n",
       "      <td>incoming_chat_message</td>\n",
       "      <td>37531455</td>\n",
       "      <td>0</td>\n",
       "      <td>1730016782</td>\n",
       "      <td>2024-10-27 09:30:00</td>\n",
       "    </tr>\n",
       "    <tr>\n",
       "      <th>3</th>\n",
       "      <td>\"01jb75bkprk0d7hht1g5vy1pm4\"</td>\n",
       "      <td>incoming_chat_message</td>\n",
       "      <td>37553371</td>\n",
       "      <td>0</td>\n",
       "      <td>1730038583</td>\n",
       "      <td>2024-10-27 14:16:23</td>\n",
       "    </tr>\n",
       "    <tr>\n",
       "      <th>4</th>\n",
       "      <td>\"01jb3t5xprbph1c6pym8ervxpm\"</td>\n",
       "      <td>incoming_chat_message</td>\n",
       "      <td>37548675</td>\n",
       "      <td>0</td>\n",
       "      <td>1729926199</td>\n",
       "      <td>2024-10-26 09:30:00</td>\n",
       "    </tr>\n",
       "  </tbody>\n",
       "</table>\n",
       "</div>"
      ],
      "text/plain": [
       "                     message_id                   type  entity_id  created_by  \\\n",
       "0  \"01jb7da570sf4f65xdf0ptvv9q\"  incoming_chat_message   37556493           0   \n",
       "1  \"01jb3t6bc8gvyfnd063nd91ng4\"  incoming_chat_message   37549491           0   \n",
       "2  \"01jb6gj9ngwk0ybbmg9w90pbqg\"  incoming_chat_message   37531455           0   \n",
       "3  \"01jb75bkprk0d7hht1g5vy1pm4\"  incoming_chat_message   37553371           0   \n",
       "4  \"01jb3t5xprbph1c6pym8ervxpm\"  incoming_chat_message   37548675           0   \n",
       "\n",
       "   created_at             created  \n",
       "0  1730046924 2024-10-27 16:35:24  \n",
       "1  1729926213 2024-10-26 09:30:00  \n",
       "2  1730016782 2024-10-27 09:30:00  \n",
       "3  1730038583 2024-10-27 14:16:23  \n",
       "4  1729926199 2024-10-26 09:30:00  "
      ]
     },
     "execution_count": 236,
     "metadata": {},
     "output_type": "execute_result"
    }
   ],
   "source": [
    "chat_messages.head()"
   ]
  },
  {
   "cell_type": "markdown",
   "metadata": {},
   "source": [
    "Делим сообщения по группам"
   ]
  },
  {
   "cell_type": "code",
   "execution_count": 237,
   "metadata": {},
   "outputs": [],
   "source": [
    "chat_messages = chat_messages.sort_values(by=['entity_id', 'created'])\n",
    "chat_messages['group'] = ((chat_messages['entity_id'] != chat_messages.shift()['entity_id']) | (chat_messages['type'] != chat_messages.shift()['type'])).cumsum()"
   ]
  },
  {
   "cell_type": "code",
   "execution_count": 238,
   "metadata": {},
   "outputs": [],
   "source": [
    "chat_messages = chat_messages.groupby(by='group').first().reset_index()"
   ]
  },
  {
   "cell_type": "markdown",
   "metadata": {},
   "source": [
    "Ищем разницу в секундах и в днях"
   ]
  },
  {
   "cell_type": "code",
   "execution_count": 218,
   "metadata": {},
   "outputs": [],
   "source": [
    "chat_messages['time_response'] = chat_messages.groupby('entity_id')['created'].diff() \n",
    "chat_messages['days_response'] = chat_messages.groupby('entity_id')['created'].diff().dt.days \n",
    "chat_messages = chat_messages.dropna()"
   ]
  },
  {
   "cell_type": "markdown",
   "metadata": {},
   "source": [
    "Оставляем сообщения менеджеров"
   ]
  },
  {
   "cell_type": "code",
   "execution_count": 219,
   "metadata": {},
   "outputs": [],
   "source": [
    "messages_response = chat_messages[chat_messages['type'] == 'outgoing_chat_message']"
   ]
  },
  {
   "cell_type": "markdown",
   "metadata": {},
   "source": [
    "Смотрим,какие ответы были получены не в тот же день"
   ]
  },
  {
   "cell_type": "code",
   "execution_count": 230,
   "metadata": {},
   "outputs": [
    {
     "data": {
      "text/html": [
       "<div>\n",
       "<style scoped>\n",
       "    .dataframe tbody tr th:only-of-type {\n",
       "        vertical-align: middle;\n",
       "    }\n",
       "\n",
       "    .dataframe tbody tr th {\n",
       "        vertical-align: top;\n",
       "    }\n",
       "\n",
       "    .dataframe thead th {\n",
       "        text-align: right;\n",
       "    }\n",
       "</style>\n",
       "<table border=\"1\" class=\"dataframe\">\n",
       "  <thead>\n",
       "    <tr style=\"text-align: right;\">\n",
       "      <th></th>\n",
       "      <th>group</th>\n",
       "      <th>message_id</th>\n",
       "      <th>type</th>\n",
       "      <th>entity_id</th>\n",
       "      <th>created_by</th>\n",
       "      <th>created_at</th>\n",
       "      <th>created</th>\n",
       "      <th>time_response</th>\n",
       "      <th>days_response</th>\n",
       "      <th>seconds_response</th>\n",
       "    </tr>\n",
       "  </thead>\n",
       "  <tbody>\n",
       "    <tr>\n",
       "      <th>3713</th>\n",
       "      <td>3714</td>\n",
       "      <td>\"01jb7kkdhgf24maz3d3kebrxxw\"</td>\n",
       "      <td>outgoing_chat_message</td>\n",
       "      <td>37517839</td>\n",
       "      <td>11490278</td>\n",
       "      <td>1730053518</td>\n",
       "      <td>2024-10-27 18:25:18</td>\n",
       "      <td>1 days 07:41:05</td>\n",
       "      <td>1.0</td>\n",
       "      <td>79865.0</td>\n",
       "    </tr>\n",
       "    <tr>\n",
       "      <th>4668</th>\n",
       "      <td>4669</td>\n",
       "      <td>\"01jb7kfvwfdk6qybsytre6xg8a\"</td>\n",
       "      <td>outgoing_chat_message</td>\n",
       "      <td>37534855</td>\n",
       "      <td>11448610</td>\n",
       "      <td>1730053402</td>\n",
       "      <td>2024-10-27 18:23:22</td>\n",
       "      <td>1 days 08:53:22</td>\n",
       "      <td>1.0</td>\n",
       "      <td>84202.0</td>\n",
       "    </tr>\n",
       "    <tr>\n",
       "      <th>5420</th>\n",
       "      <td>5421</td>\n",
       "      <td>\"01jb6txzatcsv1fx563dz6eebc\"</td>\n",
       "      <td>outgoing_chat_message</td>\n",
       "      <td>37537921</td>\n",
       "      <td>11448610</td>\n",
       "      <td>1730027650</td>\n",
       "      <td>2024-10-27 11:14:10</td>\n",
       "      <td>1 days 01:44:10</td>\n",
       "      <td>1.0</td>\n",
       "      <td>58450.0</td>\n",
       "    </tr>\n",
       "    <tr>\n",
       "      <th>7880</th>\n",
       "      <td>7881</td>\n",
       "      <td>\"01jb6stjbbawn8zfmdk9dthka3\"</td>\n",
       "      <td>outgoing_chat_message</td>\n",
       "      <td>37548901</td>\n",
       "      <td>11448610</td>\n",
       "      <td>1730026490</td>\n",
       "      <td>2024-10-27 10:54:50</td>\n",
       "      <td>1 days 01:24:50</td>\n",
       "      <td>1.0</td>\n",
       "      <td>57290.0</td>\n",
       "    </tr>\n",
       "    <tr>\n",
       "      <th>11179</th>\n",
       "      <td>11180</td>\n",
       "      <td>\"01jb766k2gzqr5yhs61bswntf0\"</td>\n",
       "      <td>outgoing_chat_message</td>\n",
       "      <td>37551477</td>\n",
       "      <td>11448610</td>\n",
       "      <td>1730039467</td>\n",
       "      <td>2024-10-27 14:31:07</td>\n",
       "      <td>1 days 01:57:49</td>\n",
       "      <td>1.0</td>\n",
       "      <td>59269.0</td>\n",
       "    </tr>\n",
       "    <tr>\n",
       "      <th>11568</th>\n",
       "      <td>11569</td>\n",
       "      <td>\"01jb76w6ktarpcma2r69pqmss9\"</td>\n",
       "      <td>outgoing_chat_message</td>\n",
       "      <td>37551867</td>\n",
       "      <td>10262513</td>\n",
       "      <td>1730040175</td>\n",
       "      <td>2024-10-27 14:42:55</td>\n",
       "      <td>1 days 01:24:30</td>\n",
       "      <td>1.0</td>\n",
       "      <td>57270.0</td>\n",
       "    </tr>\n",
       "  </tbody>\n",
       "</table>\n",
       "</div>"
      ],
      "text/plain": [
       "       group                    message_id                   type  entity_id  \\\n",
       "3713    3714  \"01jb7kkdhgf24maz3d3kebrxxw\"  outgoing_chat_message   37517839   \n",
       "4668    4669  \"01jb7kfvwfdk6qybsytre6xg8a\"  outgoing_chat_message   37534855   \n",
       "5420    5421  \"01jb6txzatcsv1fx563dz6eebc\"  outgoing_chat_message   37537921   \n",
       "7880    7881  \"01jb6stjbbawn8zfmdk9dthka3\"  outgoing_chat_message   37548901   \n",
       "11179  11180  \"01jb766k2gzqr5yhs61bswntf0\"  outgoing_chat_message   37551477   \n",
       "11568  11569  \"01jb76w6ktarpcma2r69pqmss9\"  outgoing_chat_message   37551867   \n",
       "\n",
       "       created_by  created_at             created   time_response  \\\n",
       "3713     11490278  1730053518 2024-10-27 18:25:18 1 days 07:41:05   \n",
       "4668     11448610  1730053402 2024-10-27 18:23:22 1 days 08:53:22   \n",
       "5420     11448610  1730027650 2024-10-27 11:14:10 1 days 01:44:10   \n",
       "7880     11448610  1730026490 2024-10-27 10:54:50 1 days 01:24:50   \n",
       "11179    11448610  1730039467 2024-10-27 14:31:07 1 days 01:57:49   \n",
       "11568    10262513  1730040175 2024-10-27 14:42:55 1 days 01:24:30   \n",
       "\n",
       "       days_response  seconds_response  \n",
       "3713             1.0           79865.0  \n",
       "4668             1.0           84202.0  \n",
       "5420             1.0           58450.0  \n",
       "7880             1.0           57290.0  \n",
       "11179            1.0           59269.0  \n",
       "11568            1.0           57270.0  "
      ]
     },
     "execution_count": 230,
     "metadata": {},
     "output_type": "execute_result"
    }
   ],
   "source": [
    "messages_response[messages_response['days_response']!=0]"
   ]
  },
  {
   "cell_type": "markdown",
   "metadata": {},
   "source": [
    "Считываем время ответа без учета ночных часов"
   ]
  },
  {
   "cell_type": "code",
   "execution_count": 240,
   "metadata": {},
   "outputs": [],
   "source": [
    "messages_response.loc[:, 'seconds_response'] = messages_response.apply(\n",
    "    lambda x: x['time_response'].total_seconds() - x['days_response'] * 60 * 60 * 9.5, axis=1\n",
    ")\n",
    " "
   ]
  },
  {
   "cell_type": "markdown",
   "metadata": {},
   "source": [
    "Находим среднее время ответов по каждому менеджеру"
   ]
  },
  {
   "cell_type": "code",
   "execution_count": 223,
   "metadata": {},
   "outputs": [],
   "source": [
    "mean_seconds_work = messages_response.groupby(by='created_by')['seconds_response'].mean().round()"
   ]
  },
  {
   "cell_type": "markdown",
   "metadata": {},
   "source": [
    "Мерджим с таблицей менеджеров"
   ]
  },
  {
   "cell_type": "code",
   "execution_count": 224,
   "metadata": {},
   "outputs": [],
   "source": [
    "result = pd.merge(managers, mean_seconds_work, how='inner', left_on = 'mop_id', right_on = 'created_by')\n"
   ]
  },
  {
   "cell_type": "markdown",
   "metadata": {},
   "source": [
    "Мерджим с таблицей фирм"
   ]
  },
  {
   "cell_type": "code",
   "execution_count": 226,
   "metadata": {},
   "outputs": [],
   "source": [
    "result['rop_id'] = result['rop_id'].astype(int)\n",
    "result = pd.merge(result, rops, how = 'inner')"
   ]
  },
  {
   "cell_type": "markdown",
   "metadata": {},
   "source": [
    "Получаем окончательный результат"
   ]
  },
  {
   "cell_type": "code",
   "execution_count": 227,
   "metadata": {},
   "outputs": [
    {
     "data": {
      "text/html": [
       "<div>\n",
       "<style scoped>\n",
       "    .dataframe tbody tr th:only-of-type {\n",
       "        vertical-align: middle;\n",
       "    }\n",
       "\n",
       "    .dataframe tbody tr th {\n",
       "        vertical-align: top;\n",
       "    }\n",
       "\n",
       "    .dataframe thead th {\n",
       "        text-align: right;\n",
       "    }\n",
       "</style>\n",
       "<table border=\"1\" class=\"dataframe\">\n",
       "  <thead>\n",
       "    <tr style=\"text-align: right;\">\n",
       "      <th></th>\n",
       "      <th>Менеджеры</th>\n",
       "      <th>Среднее время ответа</th>\n",
       "      <th>Фирма</th>\n",
       "    </tr>\n",
       "  </thead>\n",
       "  <tbody>\n",
       "    <tr>\n",
       "      <th>7</th>\n",
       "      <td>Даша и Даша</td>\n",
       "      <td>219.0</td>\n",
       "      <td>Полина РОП</td>\n",
       "    </tr>\n",
       "    <tr>\n",
       "      <th>13</th>\n",
       "      <td>Влада и Настя</td>\n",
       "      <td>283.0</td>\n",
       "      <td>Эля РОП</td>\n",
       "    </tr>\n",
       "    <tr>\n",
       "      <th>18</th>\n",
       "      <td>Даша и Карина</td>\n",
       "      <td>348.0</td>\n",
       "      <td>Эля РОП</td>\n",
       "    </tr>\n",
       "    <tr>\n",
       "      <th>3</th>\n",
       "      <td>Настя и Даша</td>\n",
       "      <td>354.0</td>\n",
       "      <td>Катя РОП</td>\n",
       "    </tr>\n",
       "    <tr>\n",
       "      <th>14</th>\n",
       "      <td>Порхачева Полина</td>\n",
       "      <td>399.0</td>\n",
       "      <td>Эля РОП</td>\n",
       "    </tr>\n",
       "    <tr>\n",
       "      <th>19</th>\n",
       "      <td>Полина Мирзоян</td>\n",
       "      <td>559.0</td>\n",
       "      <td>Эля РОП</td>\n",
       "    </tr>\n",
       "    <tr>\n",
       "      <th>8</th>\n",
       "      <td>Лиза и Ева</td>\n",
       "      <td>560.0</td>\n",
       "      <td>Полина РОП</td>\n",
       "    </tr>\n",
       "    <tr>\n",
       "      <th>21</th>\n",
       "      <td>Ангелина Милованова</td>\n",
       "      <td>614.0</td>\n",
       "      <td>Эля РОП</td>\n",
       "    </tr>\n",
       "    <tr>\n",
       "      <th>6</th>\n",
       "      <td>Ксюша и Джамиля</td>\n",
       "      <td>735.0</td>\n",
       "      <td>Катя РОП</td>\n",
       "    </tr>\n",
       "    <tr>\n",
       "      <th>12</th>\n",
       "      <td>Настя и Саша</td>\n",
       "      <td>778.0</td>\n",
       "      <td>Полина РОП</td>\n",
       "    </tr>\n",
       "    <tr>\n",
       "      <th>16</th>\n",
       "      <td>Ками и Мила</td>\n",
       "      <td>819.0</td>\n",
       "      <td>Эля РОП</td>\n",
       "    </tr>\n",
       "    <tr>\n",
       "      <th>0</th>\n",
       "      <td>Гюнель и Илина</td>\n",
       "      <td>930.0</td>\n",
       "      <td>Катя РОП</td>\n",
       "    </tr>\n",
       "    <tr>\n",
       "      <th>9</th>\n",
       "      <td>Соня и Катя</td>\n",
       "      <td>938.0</td>\n",
       "      <td>Полина РОП</td>\n",
       "    </tr>\n",
       "    <tr>\n",
       "      <th>15</th>\n",
       "      <td>Алина и Юля</td>\n",
       "      <td>1191.0</td>\n",
       "      <td>Эля РОП</td>\n",
       "    </tr>\n",
       "    <tr>\n",
       "      <th>10</th>\n",
       "      <td>Мария и Соня</td>\n",
       "      <td>1227.0</td>\n",
       "      <td>Полина РОП</td>\n",
       "    </tr>\n",
       "    <tr>\n",
       "      <th>1</th>\n",
       "      <td>Юля и Наташа</td>\n",
       "      <td>1274.0</td>\n",
       "      <td>Катя РОП</td>\n",
       "    </tr>\n",
       "    <tr>\n",
       "      <th>20</th>\n",
       "      <td>Софья Боднар</td>\n",
       "      <td>1275.0</td>\n",
       "      <td>Эля РОП</td>\n",
       "    </tr>\n",
       "    <tr>\n",
       "      <th>11</th>\n",
       "      <td>Даша и Влада</td>\n",
       "      <td>1351.0</td>\n",
       "      <td>Полина РОП</td>\n",
       "    </tr>\n",
       "    <tr>\n",
       "      <th>5</th>\n",
       "      <td>Аня и Ксюша</td>\n",
       "      <td>1525.0</td>\n",
       "      <td>Катя РОП</td>\n",
       "    </tr>\n",
       "    <tr>\n",
       "      <th>17</th>\n",
       "      <td>Настя и Малика</td>\n",
       "      <td>1620.0</td>\n",
       "      <td>Эля РОП</td>\n",
       "    </tr>\n",
       "    <tr>\n",
       "      <th>4</th>\n",
       "      <td>Вика и Катя</td>\n",
       "      <td>1804.0</td>\n",
       "      <td>Катя РОП</td>\n",
       "    </tr>\n",
       "    <tr>\n",
       "      <th>2</th>\n",
       "      <td>Ира и Варя</td>\n",
       "      <td>1845.0</td>\n",
       "      <td>Катя РОП</td>\n",
       "    </tr>\n",
       "  </tbody>\n",
       "</table>\n",
       "</div>"
      ],
      "text/plain": [
       "              Менеджеры  Среднее время ответа       Фирма\n",
       "7           Даша и Даша                 219.0  Полина РОП\n",
       "13        Влада и Настя                 283.0     Эля РОП\n",
       "18        Даша и Карина                 348.0     Эля РОП\n",
       "3          Настя и Даша                 354.0    Катя РОП\n",
       "14     Порхачева Полина                 399.0     Эля РОП\n",
       "19       Полина Мирзоян                 559.0     Эля РОП\n",
       "8            Лиза и Ева                 560.0  Полина РОП\n",
       "21  Ангелина Милованова                 614.0     Эля РОП\n",
       "6       Ксюша и Джамиля                 735.0    Катя РОП\n",
       "12         Настя и Саша                 778.0  Полина РОП\n",
       "16          Ками и Мила                 819.0     Эля РОП\n",
       "0        Гюнель и Илина                 930.0    Катя РОП\n",
       "9           Соня и Катя                 938.0  Полина РОП\n",
       "15          Алина и Юля                1191.0     Эля РОП\n",
       "10         Мария и Соня                1227.0  Полина РОП\n",
       "1          Юля и Наташа                1274.0    Катя РОП\n",
       "20         Софья Боднар                1275.0     Эля РОП\n",
       "11         Даша и Влада                1351.0  Полина РОП\n",
       "5           Аня и Ксюша                1525.0    Катя РОП\n",
       "17       Настя и Малика                1620.0     Эля РОП\n",
       "4           Вика и Катя                1804.0    Катя РОП\n",
       "2            Ира и Варя                1845.0    Катя РОП"
      ]
     },
     "execution_count": 227,
     "metadata": {},
     "output_type": "execute_result"
    }
   ],
   "source": [
    "result = result[['name_mop', 'seconds_response', 'rop_name']].sort_values(by='seconds_response')\n",
    "result.columns = ['Менеджеры', 'Среднее время ответа', 'Фирма']\n",
    "result"
   ]
  }
 ],
 "metadata": {
  "kernelspec": {
   "display_name": "Python 3",
   "language": "python",
   "name": "python3"
  },
  "language_info": {
   "codemirror_mode": {
    "name": "ipython",
    "version": 3
   },
   "file_extension": ".py",
   "mimetype": "text/x-python",
   "name": "python",
   "nbconvert_exporter": "python",
   "pygments_lexer": "ipython3",
   "version": "3.12.5"
  }
 },
 "nbformat": 4,
 "nbformat_minor": 2
}
